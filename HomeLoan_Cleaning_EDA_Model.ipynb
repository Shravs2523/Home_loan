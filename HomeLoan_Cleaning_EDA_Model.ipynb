{
 "cells": [
  {
   "cell_type": "markdown",
   "metadata": {},
   "source": [
    "# CLEANING NULL VALUES"
   ]
  },
  {
   "cell_type": "code",
   "execution_count": 1,
   "metadata": {},
   "outputs": [],
   "source": [
    "#load packages and set file paths.\n",
    "import pandas as pd\n",
    "import numpy as np\n",
    "import matplotlib.pyplot as plt\n",
    "import seaborn as sns\n",
    "import warnings\n",
    "warnings.filterwarnings('ignore')\n",
    "\n",
    "%matplotlib inline\n",
    "\n",
    "train_loc = r\".\\Homeloan_Traindata.csv\"\n",
    "test_loc = r\".\\Homeloan_Testdata.csv\""
   ]
  },
  {
   "cell_type": "code",
   "execution_count": 2,
   "metadata": {},
   "outputs": [
    {
     "name": "stdout",
     "output_type": "stream",
     "text": [
      "(614, 13) (367, 12) (981, 13)\n"
     ]
    },
    {
     "name": "stderr",
     "output_type": "stream",
     "text": [
      "C:\\Users\\srisravana.p\\AppData\\Local\\Continuum\\anaconda3\\lib\\site-packages\\ipykernel_launcher.py:3: FutureWarning: Sorting because non-concatenation axis is not aligned. A future version\n",
      "of pandas will change to not sort by default.\n",
      "\n",
      "To accept the future behavior, pass 'sort=True'.\n",
      "\n",
      "To retain the current behavior and silence the warning, pass sort=False\n",
      "\n",
      "  This is separate from the ipykernel package so we can avoid doing imports until\n"
     ]
    },
    {
     "data": {
      "text/html": [
       "<div>\n",
       "<style scoped>\n",
       "    .dataframe tbody tr th:only-of-type {\n",
       "        vertical-align: middle;\n",
       "    }\n",
       "\n",
       "    .dataframe tbody tr th {\n",
       "        vertical-align: top;\n",
       "    }\n",
       "\n",
       "    .dataframe thead th {\n",
       "        text-align: right;\n",
       "    }\n",
       "</style>\n",
       "<table border=\"1\" class=\"dataframe\">\n",
       "  <thead>\n",
       "    <tr style=\"text-align: right;\">\n",
       "      <th></th>\n",
       "      <th>ApplicantIncome</th>\n",
       "      <th>CoapplicantIncome</th>\n",
       "      <th>Credit_History</th>\n",
       "      <th>Dependents</th>\n",
       "      <th>Education</th>\n",
       "      <th>Gender</th>\n",
       "      <th>LoanAmount</th>\n",
       "      <th>Loan_Amount_Term</th>\n",
       "      <th>Loan_ID</th>\n",
       "      <th>Loan_Status</th>\n",
       "      <th>Married</th>\n",
       "      <th>Property_Area</th>\n",
       "      <th>Self_Employed</th>\n",
       "    </tr>\n",
       "  </thead>\n",
       "  <tbody>\n",
       "    <tr>\n",
       "      <th>362</th>\n",
       "      <td>4009</td>\n",
       "      <td>1777.0</td>\n",
       "      <td>1.0</td>\n",
       "      <td>3+</td>\n",
       "      <td>Not Graduate</td>\n",
       "      <td>Male</td>\n",
       "      <td>113.0</td>\n",
       "      <td>360.0</td>\n",
       "      <td>LP002971</td>\n",
       "      <td>NaN</td>\n",
       "      <td>Yes</td>\n",
       "      <td>Urban</td>\n",
       "      <td>Yes</td>\n",
       "    </tr>\n",
       "    <tr>\n",
       "      <th>363</th>\n",
       "      <td>4158</td>\n",
       "      <td>709.0</td>\n",
       "      <td>1.0</td>\n",
       "      <td>0</td>\n",
       "      <td>Graduate</td>\n",
       "      <td>Male</td>\n",
       "      <td>115.0</td>\n",
       "      <td>360.0</td>\n",
       "      <td>LP002975</td>\n",
       "      <td>NaN</td>\n",
       "      <td>Yes</td>\n",
       "      <td>Urban</td>\n",
       "      <td>No</td>\n",
       "    </tr>\n",
       "    <tr>\n",
       "      <th>364</th>\n",
       "      <td>3250</td>\n",
       "      <td>1993.0</td>\n",
       "      <td>NaN</td>\n",
       "      <td>0</td>\n",
       "      <td>Graduate</td>\n",
       "      <td>Male</td>\n",
       "      <td>126.0</td>\n",
       "      <td>360.0</td>\n",
       "      <td>LP002980</td>\n",
       "      <td>NaN</td>\n",
       "      <td>No</td>\n",
       "      <td>Semiurban</td>\n",
       "      <td>No</td>\n",
       "    </tr>\n",
       "    <tr>\n",
       "      <th>365</th>\n",
       "      <td>5000</td>\n",
       "      <td>2393.0</td>\n",
       "      <td>1.0</td>\n",
       "      <td>0</td>\n",
       "      <td>Graduate</td>\n",
       "      <td>Male</td>\n",
       "      <td>158.0</td>\n",
       "      <td>360.0</td>\n",
       "      <td>LP002986</td>\n",
       "      <td>NaN</td>\n",
       "      <td>Yes</td>\n",
       "      <td>Rural</td>\n",
       "      <td>No</td>\n",
       "    </tr>\n",
       "    <tr>\n",
       "      <th>366</th>\n",
       "      <td>9200</td>\n",
       "      <td>0.0</td>\n",
       "      <td>1.0</td>\n",
       "      <td>0</td>\n",
       "      <td>Graduate</td>\n",
       "      <td>Male</td>\n",
       "      <td>98.0</td>\n",
       "      <td>180.0</td>\n",
       "      <td>LP002989</td>\n",
       "      <td>NaN</td>\n",
       "      <td>No</td>\n",
       "      <td>Rural</td>\n",
       "      <td>Yes</td>\n",
       "    </tr>\n",
       "  </tbody>\n",
       "</table>\n",
       "</div>"
      ],
      "text/plain": [
       "     ApplicantIncome  CoapplicantIncome  Credit_History Dependents  \\\n",
       "362             4009             1777.0             1.0         3+   \n",
       "363             4158              709.0             1.0          0   \n",
       "364             3250             1993.0             NaN          0   \n",
       "365             5000             2393.0             1.0          0   \n",
       "366             9200                0.0             1.0          0   \n",
       "\n",
       "        Education Gender  LoanAmount  Loan_Amount_Term   Loan_ID Loan_Status  \\\n",
       "362  Not Graduate   Male       113.0             360.0  LP002971         NaN   \n",
       "363      Graduate   Male       115.0             360.0  LP002975         NaN   \n",
       "364      Graduate   Male       126.0             360.0  LP002980         NaN   \n",
       "365      Graduate   Male       158.0             360.0  LP002986         NaN   \n",
       "366      Graduate   Male        98.0             180.0  LP002989         NaN   \n",
       "\n",
       "    Married Property_Area Self_Employed  \n",
       "362     Yes         Urban           Yes  \n",
       "363     Yes         Urban            No  \n",
       "364      No     Semiurban            No  \n",
       "365     Yes         Rural            No  \n",
       "366      No         Rural           Yes  "
      ]
     },
     "execution_count": 2,
     "metadata": {},
     "output_type": "execute_result"
    }
   ],
   "source": [
    "train = pd.read_csv(train_loc)\n",
    "test = pd.read_csv(test_loc)\n",
    "data = pd.concat([train,test])\n",
    "\n",
    "\n",
    "print (train.shape, test.shape, data.shape)\n",
    "\n",
    "data.tail()\n"
   ]
  },
  {
   "cell_type": "code",
   "execution_count": 3,
   "metadata": {},
   "outputs": [
    {
     "name": "stdout",
     "output_type": "stream",
     "text": [
      "<class 'pandas.core.frame.DataFrame'>\n",
      "Int64Index: 981 entries, 0 to 366\n",
      "Data columns (total 13 columns):\n",
      "ApplicantIncome      981 non-null int64\n",
      "CoapplicantIncome    981 non-null float64\n",
      "Credit_History       902 non-null float64\n",
      "Dependents           956 non-null object\n",
      "Education            981 non-null object\n",
      "Gender               957 non-null object\n",
      "LoanAmount           954 non-null float64\n",
      "Loan_Amount_Term     961 non-null float64\n",
      "Loan_ID              981 non-null object\n",
      "Loan_Status          614 non-null object\n",
      "Married              978 non-null object\n",
      "Property_Area        981 non-null object\n",
      "Self_Employed        926 non-null object\n",
      "dtypes: float64(4), int64(1), object(8)\n",
      "memory usage: 107.3+ KB\n"
     ]
    }
   ],
   "source": [
    "#we're working with a dataset with under 1000 samples.\n",
    "#let's take a look at the dataset\n",
    "\n",
    "data.info()"
   ]
  },
  {
   "cell_type": "code",
   "execution_count": 4,
   "metadata": {
    "scrolled": false
   },
   "outputs": [
    {
     "data": {
      "text/html": [
       "<div>\n",
       "<style scoped>\n",
       "    .dataframe tbody tr th:only-of-type {\n",
       "        vertical-align: middle;\n",
       "    }\n",
       "\n",
       "    .dataframe tbody tr th {\n",
       "        vertical-align: top;\n",
       "    }\n",
       "\n",
       "    .dataframe thead th {\n",
       "        text-align: right;\n",
       "    }\n",
       "</style>\n",
       "<table border=\"1\" class=\"dataframe\">\n",
       "  <thead>\n",
       "    <tr style=\"text-align: right;\">\n",
       "      <th></th>\n",
       "      <th>ApplicantIncome</th>\n",
       "      <th>CoapplicantIncome</th>\n",
       "      <th>Credit_History</th>\n",
       "      <th>Dependents</th>\n",
       "      <th>Education</th>\n",
       "      <th>Gender</th>\n",
       "      <th>LoanAmount</th>\n",
       "      <th>Loan_Amount_Term</th>\n",
       "      <th>Loan_ID</th>\n",
       "      <th>Loan_Status</th>\n",
       "      <th>Married</th>\n",
       "      <th>Property_Area</th>\n",
       "      <th>Self_Employed</th>\n",
       "    </tr>\n",
       "  </thead>\n",
       "  <tbody>\n",
       "    <tr>\n",
       "      <th>0</th>\n",
       "      <td>5849</td>\n",
       "      <td>0.0</td>\n",
       "      <td>1.0</td>\n",
       "      <td>0</td>\n",
       "      <td>Graduate</td>\n",
       "      <td>Male</td>\n",
       "      <td>NaN</td>\n",
       "      <td>360.0</td>\n",
       "      <td>LP001002</td>\n",
       "      <td>Y</td>\n",
       "      <td>No</td>\n",
       "      <td>Urban</td>\n",
       "      <td>No</td>\n",
       "    </tr>\n",
       "    <tr>\n",
       "      <th>1</th>\n",
       "      <td>4583</td>\n",
       "      <td>1508.0</td>\n",
       "      <td>1.0</td>\n",
       "      <td>1</td>\n",
       "      <td>Graduate</td>\n",
       "      <td>Male</td>\n",
       "      <td>128.0</td>\n",
       "      <td>360.0</td>\n",
       "      <td>LP001003</td>\n",
       "      <td>N</td>\n",
       "      <td>Yes</td>\n",
       "      <td>Rural</td>\n",
       "      <td>No</td>\n",
       "    </tr>\n",
       "    <tr>\n",
       "      <th>2</th>\n",
       "      <td>3000</td>\n",
       "      <td>0.0</td>\n",
       "      <td>1.0</td>\n",
       "      <td>0</td>\n",
       "      <td>Graduate</td>\n",
       "      <td>Male</td>\n",
       "      <td>66.0</td>\n",
       "      <td>360.0</td>\n",
       "      <td>LP001005</td>\n",
       "      <td>Y</td>\n",
       "      <td>Yes</td>\n",
       "      <td>Urban</td>\n",
       "      <td>Yes</td>\n",
       "    </tr>\n",
       "    <tr>\n",
       "      <th>3</th>\n",
       "      <td>2583</td>\n",
       "      <td>2358.0</td>\n",
       "      <td>1.0</td>\n",
       "      <td>0</td>\n",
       "      <td>Not Graduate</td>\n",
       "      <td>Male</td>\n",
       "      <td>120.0</td>\n",
       "      <td>360.0</td>\n",
       "      <td>LP001006</td>\n",
       "      <td>Y</td>\n",
       "      <td>Yes</td>\n",
       "      <td>Urban</td>\n",
       "      <td>No</td>\n",
       "    </tr>\n",
       "    <tr>\n",
       "      <th>4</th>\n",
       "      <td>6000</td>\n",
       "      <td>0.0</td>\n",
       "      <td>1.0</td>\n",
       "      <td>0</td>\n",
       "      <td>Graduate</td>\n",
       "      <td>Male</td>\n",
       "      <td>141.0</td>\n",
       "      <td>360.0</td>\n",
       "      <td>LP001008</td>\n",
       "      <td>Y</td>\n",
       "      <td>No</td>\n",
       "      <td>Urban</td>\n",
       "      <td>No</td>\n",
       "    </tr>\n",
       "  </tbody>\n",
       "</table>\n",
       "</div>"
      ],
      "text/plain": [
       "   ApplicantIncome  CoapplicantIncome  Credit_History Dependents  \\\n",
       "0             5849                0.0             1.0          0   \n",
       "1             4583             1508.0             1.0          1   \n",
       "2             3000                0.0             1.0          0   \n",
       "3             2583             2358.0             1.0          0   \n",
       "4             6000                0.0             1.0          0   \n",
       "\n",
       "      Education Gender  LoanAmount  Loan_Amount_Term   Loan_ID Loan_Status  \\\n",
       "0      Graduate   Male         NaN             360.0  LP001002           Y   \n",
       "1      Graduate   Male       128.0             360.0  LP001003           N   \n",
       "2      Graduate   Male        66.0             360.0  LP001005           Y   \n",
       "3  Not Graduate   Male       120.0             360.0  LP001006           Y   \n",
       "4      Graduate   Male       141.0             360.0  LP001008           Y   \n",
       "\n",
       "  Married Property_Area Self_Employed  \n",
       "0      No         Urban            No  \n",
       "1     Yes         Rural            No  \n",
       "2     Yes         Urban           Yes  \n",
       "3     Yes         Urban            No  \n",
       "4      No         Urban            No  "
      ]
     },
     "execution_count": 4,
     "metadata": {},
     "output_type": "execute_result"
    }
   ],
   "source": [
    "data.head()\n"
   ]
  },
  {
   "cell_type": "code",
   "execution_count": 5,
   "metadata": {
    "scrolled": false
   },
   "outputs": [
    {
     "data": {
      "text/html": [
       "<div>\n",
       "<style scoped>\n",
       "    .dataframe tbody tr th:only-of-type {\n",
       "        vertical-align: middle;\n",
       "    }\n",
       "\n",
       "    .dataframe tbody tr th {\n",
       "        vertical-align: top;\n",
       "    }\n",
       "\n",
       "    .dataframe thead th {\n",
       "        text-align: right;\n",
       "    }\n",
       "</style>\n",
       "<table border=\"1\" class=\"dataframe\">\n",
       "  <thead>\n",
       "    <tr style=\"text-align: right;\">\n",
       "      <th></th>\n",
       "      <th>ApplicantIncome</th>\n",
       "      <th>CoapplicantIncome</th>\n",
       "      <th>Credit_History</th>\n",
       "      <th>LoanAmount</th>\n",
       "      <th>Loan_Amount_Term</th>\n",
       "    </tr>\n",
       "  </thead>\n",
       "  <tbody>\n",
       "    <tr>\n",
       "      <th>count</th>\n",
       "      <td>981.000000</td>\n",
       "      <td>981.000000</td>\n",
       "      <td>902.000000</td>\n",
       "      <td>954.000000</td>\n",
       "      <td>961.000000</td>\n",
       "    </tr>\n",
       "    <tr>\n",
       "      <th>mean</th>\n",
       "      <td>5179.795107</td>\n",
       "      <td>1601.916330</td>\n",
       "      <td>0.835920</td>\n",
       "      <td>142.511530</td>\n",
       "      <td>342.201873</td>\n",
       "    </tr>\n",
       "    <tr>\n",
       "      <th>std</th>\n",
       "      <td>5695.104533</td>\n",
       "      <td>2718.772806</td>\n",
       "      <td>0.370553</td>\n",
       "      <td>77.421743</td>\n",
       "      <td>65.100602</td>\n",
       "    </tr>\n",
       "    <tr>\n",
       "      <th>min</th>\n",
       "      <td>0.000000</td>\n",
       "      <td>0.000000</td>\n",
       "      <td>0.000000</td>\n",
       "      <td>9.000000</td>\n",
       "      <td>6.000000</td>\n",
       "    </tr>\n",
       "    <tr>\n",
       "      <th>25%</th>\n",
       "      <td>2875.000000</td>\n",
       "      <td>0.000000</td>\n",
       "      <td>1.000000</td>\n",
       "      <td>100.000000</td>\n",
       "      <td>360.000000</td>\n",
       "    </tr>\n",
       "    <tr>\n",
       "      <th>50%</th>\n",
       "      <td>3800.000000</td>\n",
       "      <td>1110.000000</td>\n",
       "      <td>1.000000</td>\n",
       "      <td>126.000000</td>\n",
       "      <td>360.000000</td>\n",
       "    </tr>\n",
       "    <tr>\n",
       "      <th>75%</th>\n",
       "      <td>5516.000000</td>\n",
       "      <td>2365.000000</td>\n",
       "      <td>1.000000</td>\n",
       "      <td>162.000000</td>\n",
       "      <td>360.000000</td>\n",
       "    </tr>\n",
       "    <tr>\n",
       "      <th>max</th>\n",
       "      <td>81000.000000</td>\n",
       "      <td>41667.000000</td>\n",
       "      <td>1.000000</td>\n",
       "      <td>700.000000</td>\n",
       "      <td>480.000000</td>\n",
       "    </tr>\n",
       "  </tbody>\n",
       "</table>\n",
       "</div>"
      ],
      "text/plain": [
       "       ApplicantIncome  CoapplicantIncome  Credit_History  LoanAmount  \\\n",
       "count       981.000000         981.000000      902.000000  954.000000   \n",
       "mean       5179.795107        1601.916330        0.835920  142.511530   \n",
       "std        5695.104533        2718.772806        0.370553   77.421743   \n",
       "min           0.000000           0.000000        0.000000    9.000000   \n",
       "25%        2875.000000           0.000000        1.000000  100.000000   \n",
       "50%        3800.000000        1110.000000        1.000000  126.000000   \n",
       "75%        5516.000000        2365.000000        1.000000  162.000000   \n",
       "max       81000.000000       41667.000000        1.000000  700.000000   \n",
       "\n",
       "       Loan_Amount_Term  \n",
       "count        961.000000  \n",
       "mean         342.201873  \n",
       "std           65.100602  \n",
       "min            6.000000  \n",
       "25%          360.000000  \n",
       "50%          360.000000  \n",
       "75%          360.000000  \n",
       "max          480.000000  "
      ]
     },
     "execution_count": 5,
     "metadata": {},
     "output_type": "execute_result"
    }
   ],
   "source": [
    "data.describe()"
   ]
  },
  {
   "cell_type": "code",
   "execution_count": 6,
   "metadata": {},
   "outputs": [
    {
     "data": {
      "image/png": "[encoded data removed]",
      "text/plain": [
       "<Figure size 864x864 with 2 Axes>"
      ]
     },
     "metadata": {},
     "output_type": "display_data"
    }
   ],
   "source": [
    "#check the correlation of the numerical feautres\n",
    "\n",
    "corr = train.select_dtypes(include = ['float64', 'int64']).corr()\n",
    "plt.figure(figsize=(12, 12))\n",
    "sns.heatmap(corr, vmax=1, square=True)\n",
    "\n",
    "#unsuprisingly applicant income and coapplicant income are positively correlated\n",
    "#with loan amount.\n",
    "plt.show()"
   ]
  },
  {
   "cell_type": "code",
   "execution_count": 7,
   "metadata": {},
   "outputs": [
    {
     "data": {
      "text/plain": [
       "ApplicantIncome      752\n",
       "CoapplicantIncome    437\n",
       "Credit_History         3\n",
       "Dependents             5\n",
       "Education              2\n",
       "Gender                 3\n",
       "LoanAmount           233\n",
       "Loan_Amount_Term      13\n",
       "Loan_ID              981\n",
       "Loan_Status            3\n",
       "Married                3\n",
       "Property_Area          3\n",
       "Self_Employed          3\n",
       "dtype: int64"
      ]
     },
     "execution_count": 7,
     "metadata": {},
     "output_type": "execute_result"
    }
   ],
   "source": [
    "#check amount of unique values in data.\n",
    "data.apply(lambda x: len(x.unique()))"
   ]
  },
  {
   "cell_type": "code",
   "execution_count": 8,
   "metadata": {
    "scrolled": true
   },
   "outputs": [
    {
     "data": {
      "text/plain": [
       "ApplicantIncome        0\n",
       "CoapplicantIncome      0\n",
       "Credit_History        79\n",
       "Dependents            25\n",
       "Education              0\n",
       "Gender                24\n",
       "LoanAmount            27\n",
       "Loan_Amount_Term      20\n",
       "Loan_ID                0\n",
       "Loan_Status          367\n",
       "Married                3\n",
       "Property_Area          0\n",
       "Self_Employed         55\n",
       "dtype: int64"
      ]
     },
     "execution_count": 8,
     "metadata": {},
     "output_type": "execute_result"
    }
   ],
   "source": [
    "#check for NaNs.\n",
    "data.apply(lambda x: sum(x.isnull()))"
   ]
  },
  {
   "cell_type": "markdown",
   "metadata": {},
   "source": [
    "# Working on Credit_History column to remove Nulls"
   ]
  },
  {
   "cell_type": "code",
   "execution_count": 9,
   "metadata": {},
   "outputs": [
    {
     "name": "stdout",
     "output_type": "stream",
     "text": [
      "1.0    475\n",
      "0.0     89\n",
      "Name: Credit_History, dtype: int64\n"
     ]
    }
   ],
   "source": [
    "print(train.Credit_History.value_counts())"
   ]
  },
  {
   "cell_type": "code",
   "execution_count": 10,
   "metadata": {
    "scrolled": true
   },
   "outputs": [
    {
     "name": "stdout",
     "output_type": "stream",
     "text": [
      "50 29\n"
     ]
    }
   ],
   "source": [
    "#print(train.Credit_History.isnull())\n",
    "print (sum(train.Credit_History.isnull()), sum(test.Credit_History.isnull()))"
   ]
  },
  {
   "cell_type": "code",
   "execution_count": 11,
   "metadata": {},
   "outputs": [
    {
     "name": "stdout",
     "output_type": "stream",
     "text": [
      "1.0    475\n",
      "0.0     89\n",
      "Name: Credit_History, dtype: int64\n"
     ]
    }
   ],
   "source": [
    "print(train.Credit_History.value_counts())"
   ]
  },
  {
   "cell_type": "code",
   "execution_count": 12,
   "metadata": {},
   "outputs": [],
   "source": [
    "#We have 79 nulls in the Credit History column. They are spread between both\n",
    "#the train and the test set. Let's change the column to a column of string\n",
    "#type with values 'Yes', 'No', 'Unknown'.\n",
    "\n",
    "replace_dict = {1.0:'Yes', 0.0:'No'}\n",
    "\n",
    "train.Credit_History = train.Credit_History.replace(replace_dict)\n",
    "test.Credit_History = test.Credit_History.replace(replace_dict)\n",
    "train.Credit_History = train.Credit_History.fillna('Unknown')\n",
    "test.Credit_History = test.Credit_History.fillna('Unknown')"
   ]
  },
  {
   "cell_type": "code",
   "execution_count": 13,
   "metadata": {},
   "outputs": [
    {
     "name": "stdout",
     "output_type": "stream",
     "text": [
      "15 10\n"
     ]
    }
   ],
   "source": [
    "print (sum(train.Dependents.isnull()), sum(test.Dependents.isnull()))"
   ]
  },
  {
   "cell_type": "markdown",
   "metadata": {},
   "source": [
    "# Working on Dependants columns to remove Nulls"
   ]
  },
  {
   "cell_type": "code",
   "execution_count": 14,
   "metadata": {},
   "outputs": [],
   "source": [
    "#There are 25 nulls in the Dependents column. They are spread between both\n",
    "#the train and the test set. Let's repeat the data tidying process we used on\n",
    "#the Credit History column.\n",
    "\n",
    "replace_dict = {'0':'0', '1':'1', '2':'2', '3+':'3'}\n",
    "\n",
    "train.Dependents = train.Dependents.replace(replace_dict)\n",
    "test.Dependents = test.Dependents.replace(replace_dict)\n",
    "train.Dependents = train.Dependents.fillna('Unknown')\n",
    "test.Dependents = test.Dependents.fillna('Unknown')"
   ]
  },
  {
   "cell_type": "markdown",
   "metadata": {},
   "source": [
    "# # Working on Gender columns to remove Nulls"
   ]
  },
  {
   "cell_type": "code",
   "execution_count": 15,
   "metadata": {
    "scrolled": true
   },
   "outputs": [
    {
     "name": "stdout",
     "output_type": "stream",
     "text": [
      "13 11\n"
     ]
    }
   ],
   "source": [
    "print (sum(train.Gender.isnull()), sum(test.Gender.isnull()))"
   ]
  },
  {
   "cell_type": "code",
   "execution_count": 16,
   "metadata": {},
   "outputs": [
    {
     "data": {
      "text/plain": [
       "Male       489\n",
       "Female     112\n",
       "Unknown     13\n",
       "Name: Gender, dtype: int64"
      ]
     },
     "execution_count": 16,
     "metadata": {},
     "output_type": "execute_result"
    }
   ],
   "source": [
    "#There are 24 nulls in the Gender column. They are spread between both\n",
    "#the train and the test set. Let's replace them with a string value again.\n",
    "\n",
    "train.Gender = train.Gender.fillna('Unknown')\n",
    "test.Gender = test.Gender.fillna('Unknown')\n",
    "\n",
    "train.Gender.value_counts()"
   ]
  },
  {
   "cell_type": "markdown",
   "metadata": {},
   "source": [
    "# # Working on Self_Employed columns to remove Nulls"
   ]
  },
  {
   "cell_type": "code",
   "execution_count": 17,
   "metadata": {
    "scrolled": true
   },
   "outputs": [
    {
     "name": "stdout",
     "output_type": "stream",
     "text": [
      "32 23\n"
     ]
    }
   ],
   "source": [
    "print (sum(train.Self_Employed.isnull()), sum(test.Self_Employed.isnull()))"
   ]
  },
  {
   "cell_type": "code",
   "execution_count": 18,
   "metadata": {},
   "outputs": [],
   "source": [
    "#There are 24 nulls in the Self_Employed column. They are spread between both\n",
    "#the train and the test set. Let's repeat the data tidying process we used on\n",
    "#the Self_Employed column.\n",
    "\n",
    "train.Self_Employed = train.Self_Employed.fillna('Unknown')\n",
    "test.Self_Employed = test.Self_Employed.fillna('Unknown')"
   ]
  },
  {
   "cell_type": "markdown",
   "metadata": {},
   "source": [
    "# # Working on Married columns to remove Nulls"
   ]
  },
  {
   "cell_type": "code",
   "execution_count": 19,
   "metadata": {},
   "outputs": [
    {
     "name": "stdout",
     "output_type": "stream",
     "text": [
      "3 0\n"
     ]
    }
   ],
   "source": [
    "print (sum(train.Married.isnull()), sum(test.Married.isnull()))"
   ]
  },
  {
   "cell_type": "code",
   "execution_count": 20,
   "metadata": {},
   "outputs": [],
   "source": [
    "#There are 3 nulls in the Married column. Only the train set contains null values.\n",
    "#This is not a problem. However, one must remember to take extra caution when creating dummy\n",
    "#variables prior to feeding the data into models.\n",
    "\n",
    "train.Married = train.Married.fillna('Unknown')"
   ]
  },
  {
   "cell_type": "markdown",
   "metadata": {},
   "source": [
    "# # Working on Loan_amount columns to remove Nulls"
   ]
  },
  {
   "cell_type": "code",
   "execution_count": 21,
   "metadata": {},
   "outputs": [
    {
     "name": "stdout",
     "output_type": "stream",
     "text": [
      "14 6\n"
     ]
    }
   ],
   "source": [
    "print (sum(train.Loan_Amount_Term.isnull()), sum(test.Loan_Amount_Term.isnull()))"
   ]
  },
  {
   "cell_type": "code",
   "execution_count": 22,
   "metadata": {},
   "outputs": [],
   "source": [
    "#There are 20 nulls in the Loan_Amount_Term column. Replace them with mean values\n",
    "#for each differnt group (based on the categorical columns).\n",
    "\n",
    "train.Loan_Amount_Term = train.groupby(['Gender', 'Dependents','Education','ApplicantIncome',\n",
    "                                        'Married','Property_Area', 'Self_Employed']).Loan_Amount_Term.transform(\n",
    "                                            lambda x: x.fillna(x.mean()))\n",
    "\n",
    "test.Loan_Amount_Term = test.groupby(['Gender', 'Dependents','Education','ApplicantIncome',\n",
    "                                        'Married','Property_Area', 'Self_Employed']).Loan_Amount_Term.transform(\n",
    "                                            lambda x: x.fillna(x.mean()))"
   ]
  },
  {
   "cell_type": "code",
   "execution_count": 23,
   "metadata": {},
   "outputs": [
    {
     "name": "stdout",
     "output_type": "stream",
     "text": [
      "22 5\n"
     ]
    }
   ],
   "source": [
    "print (sum(train.LoanAmount.isnull()), sum(test.LoanAmount.isnull()))"
   ]
  },
  {
   "cell_type": "code",
   "execution_count": 24,
   "metadata": {},
   "outputs": [],
   "source": [
    "#There are also null values in the loan amount column. Repeat the process used above.\n",
    "\n",
    "train.LoanAmount = train.groupby(['Gender', 'Dependents','Education','ApplicantIncome',\n",
    "                                  'Married','Property_Area', 'Self_Employed']).LoanAmount.transform(\n",
    "                                            lambda x: x.fillna(x.mean()))\n",
    "\n",
    "test.LoanAmount = test.groupby(['Gender', 'Dependents','Education','ApplicantIncome',\n",
    "                                'Married','Property_Area', 'Self_Employed']).LoanAmount.transform(\n",
    "                                            lambda x: x.fillna(x.mean()))"
   ]
  },
  {
   "cell_type": "code",
   "execution_count": 25,
   "metadata": {},
   "outputs": [
    {
     "name": "stdout",
     "output_type": "stream",
     "text": [
      "[  0  19  35  36  44  45  63  73  81  95 102 103 112 113 127 165 197 202\n",
      " 223 232 284 305 322 335 338 367 387 421 423 435 437 479 524 550 551 605] [ 45  48  78 101 117 129 184 188 214 247 289]\n"
     ]
    }
   ],
   "source": [
    "inds = pd.isnull(train).any(1).nonzero()[0]\n",
    "inds2 = pd.isnull(test).any(1).nonzero()[0]\n",
    "print (inds, inds2)"
   ]
  },
  {
   "cell_type": "code",
   "execution_count": 26,
   "metadata": {},
   "outputs": [],
   "source": [
    "#We can see that are still some NaNs left. Let's fill them in with the average\n",
    "#for the column.\n",
    "\n",
    "train.Loan_Amount_Term = train.Loan_Amount_Term.fillna(train.Loan_Amount_Term.mean())\n",
    "test.Loan_Amount_Term = test.Loan_Amount_Term.fillna(test.Loan_Amount_Term.mean())\n",
    "train.LoanAmount = train.LoanAmount.fillna(train.LoanAmount.mean())\n",
    "test.LoanAmount = test.LoanAmount.fillna(test.LoanAmount.mean())"
   ]
  },
  {
   "cell_type": "code",
   "execution_count": 27,
   "metadata": {},
   "outputs": [
    {
     "name": "stderr",
     "output_type": "stream",
     "text": [
      "C:\\Users\\srisravana.p\\AppData\\Local\\Continuum\\anaconda3\\lib\\site-packages\\ipykernel_launcher.py:1: FutureWarning: Sorting because non-concatenation axis is not aligned. A future version\n",
      "of pandas will change to not sort by default.\n",
      "\n",
      "To accept the future behavior, pass 'sort=True'.\n",
      "\n",
      "To retain the current behavior and silence the warning, pass sort=False\n",
      "\n",
      "  \"\"\"Entry point for launching an IPython kernel.\n"
     ]
    },
    {
     "data": {
      "text/plain": [
       "ApplicantIncome        0\n",
       "CoapplicantIncome      0\n",
       "Credit_History         0\n",
       "Dependents             0\n",
       "Education              0\n",
       "Gender                 0\n",
       "LoanAmount             0\n",
       "Loan_Amount_Term       0\n",
       "Loan_ID                0\n",
       "Loan_Status          367\n",
       "Married                0\n",
       "Property_Area          0\n",
       "Self_Employed          0\n",
       "dtype: int64"
      ]
     },
     "execution_count": 27,
     "metadata": {},
     "output_type": "execute_result"
    }
   ],
   "source": [
    "data = pd.concat([train, test])\n",
    "\n",
    "data.apply(lambda x: sum(x.isnull()))"
   ]
  },
  {
   "cell_type": "code",
   "execution_count": 28,
   "metadata": {},
   "outputs": [
    {
     "data": {
      "text/plain": [
       "Y    422\n",
       "N    192\n",
       "Name: Loan_Status, dtype: int64"
      ]
     },
     "execution_count": 28,
     "metadata": {},
     "output_type": "execute_result"
    }
   ],
   "source": [
    "\n",
    "data.Loan_Status.value_counts()\n",
    "\n",
    "# 614 -  NOT NULL\n",
    "# 367  - NULL"
   ]
  },
  {
   "cell_type": "code",
   "execution_count": 32,
   "metadata": {},
   "outputs": [],
   "source": [
    "#Excellent. Now the only null values in our data set are the target values we\n",
    "#aim to predict. Let's save the train and test sets as separate CSV files \n",
    "\n",
    "\n",
    "train.to_csv('HomeLoan_trainafternull.csv', index=False)\n",
    "test.to_csv('HomeLoan_testafternull.csv', index=False)"
   ]
  },
  {
   "cell_type": "markdown",
   "metadata": {},
   "source": [
    "# Exploratory Data Analysis"
   ]
  },
  {
   "cell_type": "code",
   "execution_count": 33,
   "metadata": {},
   "outputs": [
    {
     "name": "stdout",
     "output_type": "stream",
     "text": [
      "(614, 13) (367, 12) (981, 13)\n"
     ]
    },
    {
     "name": "stderr",
     "output_type": "stream",
     "text": [
      "C:\\Users\\srisravana.p\\AppData\\Local\\Continuum\\anaconda3\\lib\\site-packages\\ipykernel_launcher.py:12: FutureWarning: Sorting because non-concatenation axis is not aligned. A future version\n",
      "of pandas will change to not sort by default.\n",
      "\n",
      "To accept the future behavior, pass 'sort=True'.\n",
      "\n",
      "To retain the current behavior and silence the warning, pass sort=False\n",
      "\n",
      "  if sys.path[0] == '':\n"
     ]
    },
    {
     "data": {
      "text/html": [
       "<div>\n",
       "<style scoped>\n",
       "    .dataframe tbody tr th:only-of-type {\n",
       "        vertical-align: middle;\n",
       "    }\n",
       "\n",
       "    .dataframe tbody tr th {\n",
       "        vertical-align: top;\n",
       "    }\n",
       "\n",
       "    .dataframe thead th {\n",
       "        text-align: right;\n",
       "    }\n",
       "</style>\n",
       "<table border=\"1\" class=\"dataframe\">\n",
       "  <thead>\n",
       "    <tr style=\"text-align: right;\">\n",
       "      <th></th>\n",
       "      <th>ApplicantIncome</th>\n",
       "      <th>CoapplicantIncome</th>\n",
       "      <th>Credit_History</th>\n",
       "      <th>Dependents</th>\n",
       "      <th>Education</th>\n",
       "      <th>Gender</th>\n",
       "      <th>LoanAmount</th>\n",
       "      <th>Loan_Amount_Term</th>\n",
       "      <th>Loan_ID</th>\n",
       "      <th>Loan_Status</th>\n",
       "      <th>Married</th>\n",
       "      <th>Property_Area</th>\n",
       "      <th>Self_Employed</th>\n",
       "    </tr>\n",
       "  </thead>\n",
       "  <tbody>\n",
       "    <tr>\n",
       "      <th>0</th>\n",
       "      <td>5849</td>\n",
       "      <td>0.0</td>\n",
       "      <td>Yes</td>\n",
       "      <td>0</td>\n",
       "      <td>Graduate</td>\n",
       "      <td>Male</td>\n",
       "      <td>146.412162</td>\n",
       "      <td>360.0</td>\n",
       "      <td>LP001002</td>\n",
       "      <td>Y</td>\n",
       "      <td>No</td>\n",
       "      <td>Urban</td>\n",
       "      <td>No</td>\n",
       "    </tr>\n",
       "    <tr>\n",
       "      <th>1</th>\n",
       "      <td>4583</td>\n",
       "      <td>1508.0</td>\n",
       "      <td>Yes</td>\n",
       "      <td>1</td>\n",
       "      <td>Graduate</td>\n",
       "      <td>Male</td>\n",
       "      <td>128.000000</td>\n",
       "      <td>360.0</td>\n",
       "      <td>LP001003</td>\n",
       "      <td>N</td>\n",
       "      <td>Yes</td>\n",
       "      <td>Rural</td>\n",
       "      <td>No</td>\n",
       "    </tr>\n",
       "    <tr>\n",
       "      <th>2</th>\n",
       "      <td>3000</td>\n",
       "      <td>0.0</td>\n",
       "      <td>Yes</td>\n",
       "      <td>0</td>\n",
       "      <td>Graduate</td>\n",
       "      <td>Male</td>\n",
       "      <td>66.000000</td>\n",
       "      <td>360.0</td>\n",
       "      <td>LP001005</td>\n",
       "      <td>Y</td>\n",
       "      <td>Yes</td>\n",
       "      <td>Urban</td>\n",
       "      <td>Yes</td>\n",
       "    </tr>\n",
       "    <tr>\n",
       "      <th>3</th>\n",
       "      <td>2583</td>\n",
       "      <td>2358.0</td>\n",
       "      <td>Yes</td>\n",
       "      <td>0</td>\n",
       "      <td>Not Graduate</td>\n",
       "      <td>Male</td>\n",
       "      <td>120.000000</td>\n",
       "      <td>360.0</td>\n",
       "      <td>LP001006</td>\n",
       "      <td>Y</td>\n",
       "      <td>Yes</td>\n",
       "      <td>Urban</td>\n",
       "      <td>No</td>\n",
       "    </tr>\n",
       "    <tr>\n",
       "      <th>4</th>\n",
       "      <td>6000</td>\n",
       "      <td>0.0</td>\n",
       "      <td>Yes</td>\n",
       "      <td>0</td>\n",
       "      <td>Graduate</td>\n",
       "      <td>Male</td>\n",
       "      <td>141.000000</td>\n",
       "      <td>360.0</td>\n",
       "      <td>LP001008</td>\n",
       "      <td>Y</td>\n",
       "      <td>No</td>\n",
       "      <td>Urban</td>\n",
       "      <td>No</td>\n",
       "    </tr>\n",
       "  </tbody>\n",
       "</table>\n",
       "</div>"
      ],
      "text/plain": [
       "   ApplicantIncome  CoapplicantIncome Credit_History Dependents     Education  \\\n",
       "0             5849                0.0            Yes          0      Graduate   \n",
       "1             4583             1508.0            Yes          1      Graduate   \n",
       "2             3000                0.0            Yes          0      Graduate   \n",
       "3             2583             2358.0            Yes          0  Not Graduate   \n",
       "4             6000                0.0            Yes          0      Graduate   \n",
       "\n",
       "  Gender  LoanAmount  Loan_Amount_Term   Loan_ID Loan_Status Married  \\\n",
       "0   Male  146.412162             360.0  LP001002           Y      No   \n",
       "1   Male  128.000000             360.0  LP001003           N     Yes   \n",
       "2   Male   66.000000             360.0  LP001005           Y     Yes   \n",
       "3   Male  120.000000             360.0  LP001006           Y     Yes   \n",
       "4   Male  141.000000             360.0  LP001008           Y      No   \n",
       "\n",
       "  Property_Area Self_Employed  \n",
       "0         Urban            No  \n",
       "1         Rural            No  \n",
       "2         Urban           Yes  \n",
       "3         Urban            No  \n",
       "4         Urban            No  "
      ]
     },
     "execution_count": 33,
     "metadata": {},
     "output_type": "execute_result"
    }
   ],
   "source": [
    "import pandas as pd\n",
    "import numpy as np\n",
    "import matplotlib.pyplot as plt\n",
    "import seaborn as sns\n",
    "import warnings\n",
    "warnings.filterwarnings('ignore')\n",
    "\n",
    "%matplotlib inline\n",
    "\n",
    "\n",
    "\n",
    "train = pd.read_csv(r\".\\HomeLoan_trainafternull.csv\")\n",
    "test = pd.read_csv(r\".\\HomeLoan_testafternull.csv\")\n",
    "data = pd.concat([train,test])\n",
    "\n",
    "\n",
    "print (train.shape, test.shape, data.shape)\n",
    "\n",
    "data.head()"
   ]
  },
  {
   "cell_type": "code",
   "execution_count": 34,
   "metadata": {},
   "outputs": [
    {
     "name": "stderr",
     "output_type": "stream",
     "text": [
      "C:\\Users\\srisravana.p\\AppData\\Local\\Continuum\\anaconda3\\lib\\site-packages\\scipy\\stats\\stats.py:1713: FutureWarning: Using a non-tuple sequence for multidimensional indexing is deprecated; use `arr[tuple(seq)]` instead of `arr[seq]`. In the future this will be interpreted as an array index, `arr[np.array(seq)]`, which will result either in an error or a different result.\n",
      "  return np.add.reduce(sorted[indexer] * weights, axis=axis) / sumval\n",
      "C:\\Users\\srisravana.p\\AppData\\Local\\Continuum\\anaconda3\\lib\\site-packages\\matplotlib\\axes\\_axes.py:6462: UserWarning: The 'normed' kwarg is deprecated, and has been replaced by the 'density' kwarg.\n",
      "  warnings.warn(\"The 'normed' kwarg is deprecated, and has been \"\n"
     ]
    },
    {
     "data": {
      "text/plain": [
       "<matplotlib.axes._subplots.AxesSubplot at 0x1fd7e0cf390>"
      ]
     },
     "execution_count": 34,
     "metadata": {},
     "output_type": "execute_result"
    },
    {
     "data": {
      "image/png": "[encoded data removed]",
      "text/plain": [
       "<Figure size 432x288 with 1 Axes>"
      ]
     },
     "metadata": {},
     "output_type": "display_data"
    }
   ],
   "source": [
    "sns.distplot(data['LoanAmount'], kde = False, color = 'b', hist_kws={'alpha': 0.9})"
   ]
  },
  {
   "cell_type": "code",
   "execution_count": 35,
   "metadata": {},
   "outputs": [
    {
     "data": {
      "text/plain": [
       "<matplotlib.axes._subplots.AxesSubplot at 0x1fd7db2d240>"
      ]
     },
     "execution_count": 35,
     "metadata": {},
     "output_type": "execute_result"
    },
    {
     "data": {
      "image/png": "[encoded data removed]",
      "text/plain": [
       "<Figure size 864x432 with 1 Axes>"
      ]
     },
     "metadata": {},
     "output_type": "display_data"
    }
   ],
   "source": [
    "#The graph looks roughly like a Gaussian with a fat right tail, and large\n",
    "#outlier values. This makes sense as house prices tend to lie around the average\n",
    "#with some house being a lot more expensive than others. \n",
    "\n",
    "#Let's check to see how loan amounts and loan approvals vary by area.\n",
    "\n",
    "plt.figure(figsize = (12, 6))\n",
    "sns.boxplot(x = 'Property_Area', y = 'LoanAmount',  data = train)"
   ]
  },
  {
   "cell_type": "code",
   "execution_count": 36,
   "metadata": {},
   "outputs": [],
   "source": [
    "#All three property areas have similar means and interquartile ranges.\n",
    "#However, we can see that urban properties have a much wider range.\n",
    "\n",
    "#Let's now look at the spread of data between different categories and how home loan approval \n",
    "#rates vary between the different categorical groupings.\n",
    "\n",
    "replace_dict = {'Y':1, 'N':0}\n",
    "train.Loan_Status = train.Loan_Status.replace(replace_dict)\n",
    "#We need to convert our target variable to numerical values to make the plots below work."
   ]
  },
  {
   "cell_type": "code",
   "execution_count": 37,
   "metadata": {},
   "outputs": [
    {
     "data": {
      "text/plain": [
       "<matplotlib.axes._subplots.AxesSubplot at 0x1fd7e4c44e0>"
      ]
     },
     "execution_count": 37,
     "metadata": {},
     "output_type": "execute_result"
    },
    {
     "data": {
      "image/png": "[encoded data removed]",
      "text/plain": [
       "<Figure size 432x288 with 1 Axes>"
      ]
     },
     "metadata": {},
     "output_type": "display_data"
    }
   ],
   "source": [
    "sns.countplot(x=\"Gender\", data=data, palette=\"Greens_d\")\n",
    "\n",
    "#Males make up the vast majority of applicants for home loans."
   ]
  },
  {
   "cell_type": "code",
   "execution_count": 38,
   "metadata": {},
   "outputs": [
    {
     "name": "stdout",
     "output_type": "stream",
     "text": [
      "Gender   Loan_Status\n",
      "Female   N               37\n",
      "         Y               75\n",
      "Male     N              150\n",
      "         Y              339\n",
      "Unknown  N                5\n",
      "         Y                8\n",
      "dtype: int64\n",
      "66.96428571428571 69.32515337423312\n"
     ]
    }
   ],
   "source": [
    "gb = data.groupby(by=[\"Gender\", \"Loan_Status\"])\n",
    "gbs = gb.size()\n",
    "print(gbs)\n",
    "female = (gbs[1] / (gbs[0] + gbs[1]))*100\n",
    "male = (gbs[3] / (gbs[2] + gbs[3]))*100\n",
    "\n",
    "print (female, male)"
   ]
  },
  {
   "cell_type": "code",
   "execution_count": 39,
   "metadata": {},
   "outputs": [
    {
     "data": {
      "text/plain": [
       "<matplotlib.axes._subplots.AxesSubplot at 0x1fd7e355860>"
      ]
     },
     "execution_count": 39,
     "metadata": {},
     "output_type": "execute_result"
    },
    {
     "data": {
      "image/png": "[encoded data removed]",
      "text/plain": [
       "<Figure size 432x288 with 1 Axes>"
      ]
     },
     "metadata": {},
     "output_type": "display_data"
    }
   ],
   "source": [
    "#Males we're approved loans slightly at a slightly higher rate than females.\n",
    "\n",
    "sns.countplot(x=\"Married\", data=data, palette=\"Blues_d\")\n",
    "\n",
    "#Most applicants are married."
   ]
  },
  {
   "cell_type": "code",
   "execution_count": 40,
   "metadata": {},
   "outputs": [
    {
     "name": "stdout",
     "output_type": "stream",
     "text": [
      "62.91079812206573 71.60804020100502\n"
     ]
    }
   ],
   "source": [
    "gb = data.groupby(by=[\"Married\", \"Loan_Status\"])\n",
    "gbs = gb.size()\n",
    "\n",
    "no = (gbs[1] / (gbs[0] + gbs[1]))*100\n",
    "yes = (gbs[4] / (gbs[3] + gbs[4]))*100\n",
    "\n",
    "print (no, yes)"
   ]
  },
  {
   "cell_type": "code",
   "execution_count": 41,
   "metadata": {},
   "outputs": [
    {
     "data": {
      "text/plain": [
       "<matplotlib.axes._subplots.AxesSubplot at 0x1fd7e35e668>"
      ]
     },
     "execution_count": 41,
     "metadata": {},
     "output_type": "execute_result"
    },
    {
     "data": {
      "image/png": "[encoded data removed]",
      "text/plain": [
       "<Figure size 432x288 with 1 Axes>"
      ]
     },
     "metadata": {},
     "output_type": "display_data"
    }
   ],
   "source": [
    "#Married people are approved loans at a higher rate than females. We can\n",
    "#hypothesize that this is because home ownership is generally related to\n",
    "#something one does as a couple, rather than as an individual.\n",
    "\n",
    "sns.countplot(x=\"Education\", data=data, palette=\"Greens_d\")"
   ]
  },
  {
   "cell_type": "code",
   "execution_count": 42,
   "metadata": {},
   "outputs": [
    {
     "name": "stdout",
     "output_type": "stream",
     "text": [
      "Education     Loan_Status\n",
      "Graduate      N              140\n",
      "              Y              340\n",
      "Not Graduate  N               52\n",
      "              Y               82\n",
      "dtype: int64\n",
      "70.83333333333334 61.19402985074627\n"
     ]
    }
   ],
   "source": [
    "#Graduates make up the vast majority of applicants for home loans.\n",
    "\n",
    "gb = data.groupby(by=[\"Education\", \"Loan_Status\"])\n",
    "gbs = gb.size()\n",
    "print(gbs)\n",
    "graduate = (gbs[1] / (gbs[0] + gbs[1]))*100\n",
    "not_grad = (gbs[3] / (gbs[2] + gbs[3]))*100\n",
    "\n",
    "print (graduate, not_grad)"
   ]
  },
  {
   "cell_type": "code",
   "execution_count": 43,
   "metadata": {},
   "outputs": [
    {
     "data": {
      "text/plain": [
       "<matplotlib.axes._subplots.AxesSubplot at 0x1fd7e35e940>"
      ]
     },
     "execution_count": 43,
     "metadata": {},
     "output_type": "execute_result"
    },
    {
     "data": {
      "image/png": "[encoded data removed]",
      "text/plain": [
       "<Figure size 432x288 with 1 Axes>"
      ]
     },
     "metadata": {},
     "output_type": "display_data"
    }
   ],
   "source": [
    "#Graduates we're approved loans at a higher rate than non graduates, again this\n",
    "#makes intuitive sense.\n",
    "\n",
    "sns.countplot(x=\"Self_Employed\", data=data, palette=\"Blues_d\")"
   ]
  },
  {
   "cell_type": "code",
   "execution_count": 44,
   "metadata": {},
   "outputs": [
    {
     "name": "stdout",
     "output_type": "stream",
     "text": [
      "68.60000000000001 68.29268292682927\n"
     ]
    }
   ],
   "source": [
    "#The vast majority of applicants are not self-employed.\n",
    "\n",
    "gb = data.groupby(by=[\"Self_Employed\", \"Loan_Status\"])\n",
    "gbs = gb.size()\n",
    "\n",
    "not_self = (gbs[1] / (gbs[0] + gbs[1]))*100\n",
    "self = (gbs[5] / (gbs[4] + gbs[5]))*100\n",
    "\n",
    "print (not_self, self)"
   ]
  },
  {
   "cell_type": "code",
   "execution_count": 45,
   "metadata": {},
   "outputs": [
    {
     "data": {
      "text/plain": [
       "<matplotlib.axes._subplots.AxesSubplot at 0x1fd7dad6438>"
      ]
     },
     "execution_count": 45,
     "metadata": {},
     "output_type": "execute_result"
    },
    {
     "data": {
      "image/png": "[encoded data removed]",
      "text/plain": [
       "<Figure size 432x288 with 1 Axes>"
      ]
     },
     "metadata": {},
     "output_type": "display_data"
    }
   ],
   "source": [
    "#Rates are almost identical between self employed and non self employed\n",
    "#applicants. \n",
    "\n",
    "sns.countplot(x=\"Credit_History\", data=data, palette=\"Greens_d\")"
   ]
  },
  {
   "cell_type": "code",
   "execution_count": 46,
   "metadata": {},
   "outputs": [
    {
     "name": "stdout",
     "output_type": "stream",
     "text": [
      "79.57894736842105 7.865168539325842\n"
     ]
    }
   ],
   "source": [
    "#As one would hope the majority of applicants's credit history met the guidelines.\n",
    "\n",
    "gb = data.groupby(by=[\"Credit_History\", \"Loan_Status\"])\n",
    "gbs = gb.size()\n",
    "\n",
    "no = (gbs[1] / (gbs[0] + gbs[1]))*100\n",
    "yes = (gbs[5] / (gbs[4] + gbs[5]))*100\n",
    "\n",
    "print (yes, no)"
   ]
  },
  {
   "cell_type": "code",
   "execution_count": 47,
   "metadata": {},
   "outputs": [
    {
     "data": {
      "text/plain": [
       "<matplotlib.axes._subplots.AxesSubplot at 0x1fd7daf7cf8>"
      ]
     },
     "execution_count": 47,
     "metadata": {},
     "output_type": "execute_result"
    },
    {
     "data": {
      "image/png": "[encoded data removed]",
      "text/plain": [
       "<Figure size 432x288 with 1 Axes>"
      ]
     },
     "metadata": {},
     "output_type": "display_data"
    }
   ],
   "source": [
    "#No big suprise here. Only 7.8% of applicants whose credit history did not\n",
    "#meet guidelines were approved loans, compared to 79.5% for those who history\n",
    "#was up to scratch. An interesting question is why the 7.8% were approved\n",
    "#housing loans. Perhaps this dataset hints at reasons for the trouble in the\n",
    "#US housing market that sparked off the Great Recession.\n",
    "\n",
    "sns.countplot(x=\"Property_Area\", data=data, palette=\"Blues_d\")"
   ]
  },
  {
   "cell_type": "code",
   "execution_count": 48,
   "metadata": {},
   "outputs": [
    {
     "name": "stdout",
     "output_type": "stream",
     "text": [
      "61.452513966480446 76.82403433476395 65.84158415841584\n"
     ]
    }
   ],
   "source": [
    "#All three property areas are well represented in the data set, with semiurban having slightly\n",
    "#more appearances than urban.\n",
    "\n",
    "gb = data.groupby(by=[\"Property_Area\", \"Loan_Status\"])\n",
    "gbs = gb.size()\n",
    "\n",
    "rural = (gbs[1] / (gbs[0] + gbs[1]))*100\n",
    "semiurban = (gbs[3] / (gbs[2] + gbs[3]))*100\n",
    "urban = (gbs[5] / (gbs[4] + gbs[5]))*100\n",
    "\n",
    "print (rural, semiurban, urban)"
   ]
  },
  {
   "cell_type": "code",
   "execution_count": 49,
   "metadata": {},
   "outputs": [
    {
     "data": {
      "text/plain": [
       "<matplotlib.axes._subplots.AxesSubplot at 0x1fd7deaf9e8>"
      ]
     },
     "execution_count": 49,
     "metadata": {},
     "output_type": "execute_result"
    },
    {
     "data": {
      "image/png": "[encoded data removed]",
      "text/plain": [
       "<Figure size 432x288 with 1 Axes>"
      ]
     },
     "metadata": {},
     "output_type": "display_data"
    }
   ],
   "source": [
    "#Semiurban has the highest approval rate, some 15% higher than the lowest urban.\n",
    "#Presumably semiurban refers to the suburbs, as far as I am aware these tend to\n",
    "#be the most affluent areas in America. Those looking to live in such areas\n",
    "#presumably command the incomes necessary to buy houses in those areas, and as\n",
    "#a result banks end up approving more loans in these areas than in urban and\n",
    "#rural areas.\n",
    "\n",
    "sns.countplot(x=\"Dependents\", data=data, palette=\"Greens_d\")"
   ]
  },
  {
   "cell_type": "code",
   "execution_count": 50,
   "metadata": {},
   "outputs": [
    {
     "name": "stdout",
     "output_type": "stream",
     "text": [
      "Dependents  Loan_Status\n",
      "0           N              107\n",
      "            Y              238\n",
      "1           N               36\n",
      "            Y               66\n",
      "2           N               25\n",
      "            Y               76\n",
      "3           N               18\n",
      "            Y               33\n",
      "Unknown     N                6\n",
      "            Y                9\n",
      "dtype: int64\n",
      "68.98550724637681 64.70588235294117 75.24752475247524 64.70588235294117\n"
     ]
    }
   ],
   "source": [
    "#Most applicants for home loans do not have any dependents. \n",
    "\n",
    "gb = data.groupby([\"Dependents\", \"Loan_Status\"])\n",
    "gbs = gb.size()\n",
    "print(gbs)\n",
    "none = (gbs[1] / (gbs[0] + gbs[1]))*100\n",
    "one = (gbs[3] / (gbs[2] + gbs[3]))*100\n",
    "two = (gbs[5] / (gbs[4] + gbs[5]))*100\n",
    "three = (gbs[7] / (gbs[6] + gbs[7]))*100\n",
    "\n",
    "print (none, one, two, three)"
   ]
  },
  {
   "cell_type": "code",
   "execution_count": 51,
   "metadata": {},
   "outputs": [
    {
     "name": "stderr",
     "output_type": "stream",
     "text": [
      "C:\\Users\\srisravana.p\\AppData\\Local\\Continuum\\anaconda3\\lib\\site-packages\\scipy\\stats\\stats.py:1713: FutureWarning: Using a non-tuple sequence for multidimensional indexing is deprecated; use `arr[tuple(seq)]` instead of `arr[seq]`. In the future this will be interpreted as an array index, `arr[np.array(seq)]`, which will result either in an error or a different result.\n",
      "  return np.add.reduce(sorted[indexer] * weights, axis=axis) / sumval\n"
     ]
    },
    {
     "data": {
      "text/plain": [
       "<matplotlib.axes._subplots.AxesSubplot at 0x1fd7e3d5c50>"
      ]
     },
     "execution_count": 51,
     "metadata": {},
     "output_type": "execute_result"
    },
    {
     "data": {
      "image/png": "[encoded data removed]",
      "text/plain": [
       "<Figure size 432x288 with 1 Axes>"
      ]
     },
     "metadata": {},
     "output_type": "display_data"
    }
   ],
   "source": [
    "#Those with 2 dependents come out on top with those without dependents in second.\n",
    "#1 and 3 or more dependents have near identical approval rates. \n",
    "#Dropping Unknown Gender columns\n",
    "\n",
    "\n",
    "train_no_unknown = train.drop(train[train.Gender == 'Unknown'].index)\n",
    "\n",
    "sns.pointplot(x=\"Gender\", y=\"Loan_Status\",\n",
    "              hue=\"Education\", data=train_no_unknown)"
   ]
  },
  {
   "cell_type": "code",
   "execution_count": 52,
   "metadata": {},
   "outputs": [],
   "source": [
    "#This concludes the EDA. Next I will attempt to predict the loan_status variable on the test set."
   ]
  },
  {
   "cell_type": "markdown",
   "metadata": {},
   "source": [
    "# MODEL"
   ]
  },
  {
   "cell_type": "code",
   "execution_count": 70,
   "metadata": {},
   "outputs": [
    {
     "name": "stdout",
     "output_type": "stream",
     "text": [
      "****TRAIN******* Index(['Loan_ID', 'Gender', 'Married', 'Dependents', 'Education',\n",
      "       'Self_Employed', 'ApplicantIncome', 'CoapplicantIncome', 'LoanAmount',\n",
      "       'Loan_Amount_Term', 'Credit_History', 'Property_Area', 'Loan_Status'],\n",
      "      dtype='object')\n",
      "******TEST******* Index(['Loan_ID', 'Gender', 'Married', 'Dependents', 'Education',\n",
      "       'Self_Employed', 'ApplicantIncome', 'CoapplicantIncome', 'LoanAmount',\n",
      "       'Loan_Amount_Term', 'Credit_History', 'Property_Area'],\n",
      "      dtype='object')\n"
     ]
    }
   ],
   "source": [
    "#To make predictions on the test set I will use a gradient boosting method.\n",
    "#For more info see: https://en.wikipedia.org/wiki/Gradient_boosting\n",
    "\n",
    "import pandas as pd\n",
    "import numpy as np\n",
    "from sklearn.cross_validation import train_test_split\n",
    "from sklearn.grid_search import GridSearchCV\n",
    "from sklearn.ensemble import GradientBoostingClassifier\n",
    "import warnings\n",
    "warnings.filterwarnings('ignore')\n",
    "\n",
    "train_loc = r\".\\HomeLoan_trainafternull.csv\"\n",
    "test_loc = r\".\\HomeLoan_testafternull.csv\"\n",
    "#submit_loc = r\"C:\\Users\\me\\Documents\\datasets\\claim_submit.csv\"\n",
    "\n",
    "train = pd.read_csv(train_loc)\n",
    "test = pd.read_csv(test_loc)\n",
    "\n",
    "\n",
    "\n",
    "print(\"****TRAIN*******\",train.columns)\n",
    "print(\"******TEST*******\",test.columns)"
   ]
  },
  {
   "cell_type": "code",
   "execution_count": 71,
   "metadata": {},
   "outputs": [
    {
     "name": "stdout",
     "output_type": "stream",
     "text": [
      "****TRAIN******* Index(['Loan_ID', 'ApplicantIncome', 'CoapplicantIncome', 'LoanAmount',\n",
      "       'Loan_Amount_Term', 'Loan_Status', 'Gender_Female', 'Gender_Male',\n",
      "       'Gender_Unknown', 'Married_No', 'Married_Unknown', 'Married_Yes',\n",
      "       'Dependents_0', 'Dependents_1', 'Dependents_2', 'Dependents_3',\n",
      "       'Dependents_Unknown', 'Education_Graduate', 'Education_Not Graduate',\n",
      "       'Self_Employed_No', 'Self_Employed_Unknown', 'Self_Employed_Yes',\n",
      "       'Credit_History_No', 'Credit_History_Unknown', 'Credit_History_Yes',\n",
      "       'Property_Area_Rural', 'Property_Area_Semiurban',\n",
      "       'Property_Area_Urban'],\n",
      "      dtype='object')\n",
      "******TEST******* Index(['Loan_ID', 'ApplicantIncome', 'CoapplicantIncome', 'LoanAmount',\n",
      "       'Loan_Amount_Term', 'Gender_Female', 'Gender_Male', 'Gender_Unknown',\n",
      "       'Married_No', 'Married_Yes', 'Dependents_0', 'Dependents_1',\n",
      "       'Dependents_2', 'Dependents_3', 'Dependents_Unknown',\n",
      "       'Education_Graduate', 'Education_Not Graduate', 'Self_Employed_No',\n",
      "       'Self_Employed_Unknown', 'Self_Employed_Yes', 'Credit_History_No',\n",
      "       'Credit_History_Unknown', 'Credit_History_Yes', 'Property_Area_Rural',\n",
      "       'Property_Area_Semiurban', 'Property_Area_Urban'],\n",
      "      dtype='object')\n"
     ]
    }
   ],
   "source": [
    "#Create dummy variables then shuffle the train set.\n",
    "\n",
    "cols = ['Gender', 'Married', 'Dependents', 'Education', 'Self_Employed','Credit_History', 'Property_Area']\n",
    "\n",
    "train = pd.get_dummies(train, columns = cols)\n",
    "test = pd.get_dummies(test, columns = cols)\n",
    "\n",
    "train = train.sample(frac=1).reset_index(drop=True)\n",
    "\n",
    "print(\"****TRAIN*******\",train.columns)\n",
    "print(\"******TEST*******\",test.columns)\n"
   ]
  },
  {
   "cell_type": "code",
   "execution_count": 72,
   "metadata": {},
   "outputs": [],
   "source": [
    "#Set the target variable.\n",
    "\n",
    "y = train.Loan_Status"
   ]
  },
  {
   "cell_type": "code",
   "execution_count": 73,
   "metadata": {},
   "outputs": [],
   "source": [
    "#Drop the unnecessary columns and prepare or data for our submission file.\n",
    "\n",
    "train =  train.drop(['Loan_ID', 'Loan_Status'], axis=1)\n",
    "X = train.astype(np.float32)\n",
    "submit = test['Loan_ID']"
   ]
  },
  {
   "cell_type": "code",
   "execution_count": 74,
   "metadata": {},
   "outputs": [],
   "source": [
    "#Do the same for the test set. Unlike the train set there was no unknown data in the married \n",
    "#column on the test set. As a result we have to insert a Married Unknown column as Pandas did\n",
    "#not create this column when we ran pd.get_dummies() on the test set.\n",
    "\n",
    "test = test.drop('Loan_ID', axis=1)\n",
    "test.insert(8, 'Married_Unknown', 0)"
   ]
  },
  {
   "cell_type": "code",
   "execution_count": 87,
   "metadata": {},
   "outputs": [],
   "source": [
    "#Use Scikit-Learn's train_test_split function to create train and validation sets.\n",
    "\n",
    "X_train, X_pred, y_train, y_pred = train_test_split(X, y, train_size=0.8)"
   ]
  },
  {
   "cell_type": "code",
   "execution_count": 94,
   "metadata": {},
   "outputs": [],
   "source": [
    "#Create a function to run a gradient boosted classifier over our data. The reason we have to\n",
    "#do this is due to the way Python uses parallelization on Windows.\n",
    "#https://www.kaggle.com/c/malware-classification/forums/t/12802/\n",
    "#anyone-getting-parallelizing-error-for-scikit-learn-based-models-in-python/66187#post66187\n",
    "\n",
    "#Note numerous different values were used in the param_grid to hone in on the best paramater\n",
    "#combinations. The param grid below is the final one I used.\n",
    "\n",
    "def model(X_train, X_pred, y_train, y_pred):\n",
    "    if __name__ == '__main__':\n",
    "    \n",
    "        param_grid = {'learning_rate': [0.03, 0.035],\n",
    "                      'max_depth': [3, 4, 5],\n",
    "                      'min_samples_leaf': [17, 18],\n",
    "                      'max_features': [1.0, 0.95, 0.9],\n",
    "                      'n_estimators': [100, 300, 500]\n",
    "                      }\n",
    "\n",
    "        estimator = GridSearchCV(estimator=GradientBoostingClassifier(),\n",
    "                                 param_grid=param_grid,\n",
    "                                 n_jobs=-1)\n",
    "\n",
    "        estimator.fit(X_train, y_train)\n",
    "\n",
    "        best_params = estimator.best_params_\n",
    "        print(best_params)                      \n",
    "        validation_accuracy = estimator.score(X_pred, y_pred)\n",
    "        print('Validation accuracy: ', validation_accuracy)\n",
    "        \n",
    "        return best_params\n",
    "\n",
    "        "
   ]
  },
  {
   "cell_type": "code",
   "execution_count": 89,
   "metadata": {},
   "outputs": [],
   "source": [
    "#params that appeared most often after running the model ten times.\n",
    "    \n",
    "params = {'min_samples_leaf': 17, 'max_features': 0.95, 'max_depth': 3,\n",
    "          'learning_rate': 0.03, 'n_estimators': 500}"
   ]
  },
  {
   "cell_type": "code",
   "execution_count": 90,
   "metadata": {},
   "outputs": [
    {
     "data": {
      "text/plain": [
       "GradientBoostingClassifier(criterion='friedman_mse', init=None,\n",
       "              learning_rate=0.03, loss='deviance', max_depth=3,\n",
       "              max_features=0.95, max_leaf_nodes=None,\n",
       "              min_impurity_decrease=0.0, min_impurity_split=None,\n",
       "              min_samples_leaf=17, min_samples_split=2,\n",
       "              min_weight_fraction_leaf=0.0, n_estimators=500,\n",
       "              presort='auto', random_state=None, subsample=1.0, verbose=0,\n",
       "              warm_start=False)"
      ]
     },
     "execution_count": 90,
     "metadata": {},
     "output_type": "execute_result"
    }
   ],
   "source": [
    "#Fit model using our data and the best parameters found by GridSearchCV.\n",
    "\n",
    "model = GradientBoostingClassifier(**params)\n",
    "model.fit(X, y)"
   ]
  },
  {
   "cell_type": "code",
   "execution_count": 91,
   "metadata": {},
   "outputs": [],
   "source": [
    "#Make predictions on the test set.\n",
    "\n",
    "preds = model.predict(test)"
   ]
  },
  {
   "cell_type": "code",
   "execution_count": 92,
   "metadata": {},
   "outputs": [],
   "source": [
    "#Create submission file.\n",
    "\n",
    "preds = pd.Series(preds)\n",
    "submit = pd.concat([submit, preds], names=['Loan_ID', 'Loan_Status'], axis=1)\n",
    "submit.columns = ['Loan_ID', 'Loan_Status']"
   ]
  },
  {
   "cell_type": "code",
   "execution_count": 93,
   "metadata": {},
   "outputs": [],
   "source": [
    "#Create CSV file for submission.\n",
    "\n",
    "submit.to_csv('loan1.csv', index=False)"
   ]
  }
 ],
 "metadata": {
  "kernelspec": {
   "display_name": "Python 3",
   "language": "python",
   "name": "python3"
  },
  "language_info": {
   "codemirror_mode": {
    "name": "ipython",
    "version": 3
   },
   "file_extension": ".py",
   "mimetype": "text/x-python",
   "name": "python",
   "nbconvert_exporter": "python",
   "pygments_lexer": "ipython3",
   "version": "3.6.5"
  }
 },
 "nbformat": 4,
 "nbformat_minor": 2
}
